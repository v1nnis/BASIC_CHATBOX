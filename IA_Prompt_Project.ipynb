{
  "nbformat": 4,
  "nbformat_minor": 0,
  "metadata": {
    "colab": {
      "provenance": [],
      "authorship_tag": "ABX9TyNkvJklrnaZkAJPeiBHDFXD",
      "include_colab_link": true
    },
    "kernelspec": {
      "name": "python3",
      "display_name": "Python 3"
    },
    "language_info": {
      "name": "python"
    }
  },
  "cells": [
    {
      "cell_type": "markdown",
      "metadata": {
        "id": "view-in-github",
        "colab_type": "text"
      },
      "source": [
        "<a href=\"https://colab.research.google.com/github/v1nnis/IA_Prompt_Project/blob/main/IA_Prompt_Project.ipynb\" target=\"_parent\"><img src=\"https://colab.research.google.com/assets/colab-badge.svg\" alt=\"Open In Colab\"/></a>"
      ]
    },
    {
      "cell_type": "markdown",
      "source": [
        "Instalando o SDK do Google:"
      ],
      "metadata": {
        "id": "QesImo5dik-6"
      }
    },
    {
      "cell_type": "code",
      "source": [
        "!pip install -q -U google-generativeai"
      ],
      "metadata": {
        "id": "jdUBcce4im5j"
      },
      "execution_count": 1,
      "outputs": []
    },
    {
      "cell_type": "markdown",
      "source": [
        "Configuração da sua API Key do Google:"
      ],
      "metadata": {
        "id": "JbRjffuxiqIa"
      }
    },
    {
      "cell_type": "code",
      "source": [
        "import google.generativeai as genai\n",
        "from google.colab import userdata\n",
        "api_key = userdata.get('SECRET_KEY')\n",
        "genai.configure(api_key=api_key)"
      ],
      "metadata": {
        "id": "FRkJ2pUCiyXZ"
      },
      "execution_count": null,
      "outputs": []
    },
    {
      "cell_type": "markdown",
      "source": [
        "Listando os modelos disponíveis:"
      ],
      "metadata": {
        "id": "FGK9lkPOi09_"
      }
    },
    {
      "cell_type": "code",
      "source": [
        "for m in genai.list_models():\n",
        "  if 'generateContent' in m.supported_generation_methods:\n",
        "    print(m.name)"
      ],
      "metadata": {
        "colab": {
          "base_uri": "https://localhost:8080/",
          "height": 139
        },
        "id": "LCz-v2uri3Ak",
        "outputId": "3931a37c-4be8-45a7-d522-a472bf862b58"
      },
      "execution_count": null,
      "outputs": [
        {
          "output_type": "stream",
          "name": "stdout",
          "text": [
            "models/gemini-1.0-pro\n",
            "models/gemini-1.0-pro-001\n",
            "models/gemini-1.0-pro-latest\n",
            "models/gemini-1.0-pro-vision-latest\n",
            "models/gemini-1.5-pro-latest\n",
            "models/gemini-pro\n",
            "models/gemini-pro-vision\n"
          ]
        }
      ]
    },
    {
      "cell_type": "markdown",
      "source": [
        "Pré-definições de segurança e geração do chatbox:"
      ],
      "metadata": {
        "id": "8mwT2HHejDZS"
      }
    },
    {
      "cell_type": "code",
      "source": [
        "generation_config = {\n",
        "    \"candidate_count\": 1,\n",
        "    \"temperature\": 0.5,\n",
        "}"
      ],
      "metadata": {
        "id": "9r9SffTyjNM4"
      },
      "execution_count": null,
      "outputs": []
    },
    {
      "cell_type": "code",
      "source": [
        "safety_settings = {\n",
        "    \"HARASSMENT\": \"BLOCK_NONE\",\n",
        "    \"HATE\": \"BLOCK_NONE\",\n",
        "    \"SEXUAL\": \"BLOCK_NONE\",\n",
        "    \"DANGEROUS\": \"BLOCK_NONE\",\n",
        "}"
      ],
      "metadata": {
        "id": "UZ3pDqUrjPcX"
      },
      "execution_count": null,
      "outputs": []
    },
    {
      "cell_type": "markdown",
      "source": [
        "Inicializando o modelo:"
      ],
      "metadata": {
        "id": "d55y9YZYjT67"
      }
    },
    {
      "cell_type": "code",
      "source": [
        "model = genai.GenerativeModel(model_name=\"gemini-1.0-pro\",\n",
        "                              generation_config=generation_config,\n",
        "                              safety_settings=safety_settings)"
      ],
      "metadata": {
        "id": "DMqth4EmjXIs"
      },
      "execution_count": null,
      "outputs": []
    },
    {
      "cell_type": "markdown",
      "source": [
        "O exemplo abaixo é a geração de um modelo exemplo responsivo."
      ],
      "metadata": {
        "id": "AGtVoWatjZkR"
      }
    },
    {
      "cell_type": "code",
      "source": [
        "response = model.generate_content(\"Me diga algumas curiosidades sobre a Rússia.\")\n",
        "print(response.text)"
      ],
      "metadata": {
        "colab": {
          "base_uri": "https://localhost:8080/",
          "height": 627
        },
        "id": "GMengqPIjkoM",
        "outputId": "e0fcd40f-e274-433b-883b-18ff760d2fc6"
      },
      "execution_count": null,
      "outputs": [
        {
          "output_type": "stream",
          "name": "stdout",
          "text": [
            "**Geografia e Natureza**\n",
            "\n",
            "* A Rússia é o maior país do mundo em área terrestre, cobrindo mais de 17 milhões de quilômetros quadrados.\n",
            "* O Lago Baikal, na Sibéria, é o maior lago de água doce do mundo por volume.\n",
            "* A Rússia abriga a floresta boreal mais extensa do mundo, conhecida como Taiga.\n",
            "* O Monte Elbrus, no Cáucaso, é a montanha mais alta da Europa.\n",
            "\n",
            "**História e Cultura**\n",
            "\n",
            "* A Rússia foi fundada em 882 d.C. pelos vikings, que estabeleceram o primeiro estado eslavo oriental, a Rus de Kiev.\n",
            "* Moscou se tornou a capital da Rússia em 1480.\n",
            "* O Império Russo foi um dos maiores impérios da história, cobrindo uma vasta área da Europa, Ásia e América do Norte.\n",
            "* A Revolução Russa de 1917 levou à criação da União Soviética, que durou até 1991.\n",
            "\n",
            "**Sociedade e Demografia**\n",
            "\n",
            "* A Rússia tem uma população de cerca de 146 milhões de pessoas.\n",
            "* Moscou e São Petersburgo são as maiores cidades do país.\n",
            "* O russo é a língua oficial da Rússia.\n",
            "* A Ortodoxia Russa é a religião predominante na Rússia.\n",
            "\n",
            "**Economia e Tecnologia**\n",
            "\n",
            "* A Rússia é uma das maiores economias do mundo, baseada principalmente em recursos naturais como petróleo e gás.\n",
            "* A Rússia tem um programa espacial avançado e foi o primeiro país a enviar um homem ao espaço.\n",
            "* A Rússia é um dos principais produtores de armas do mundo.\n",
            "\n",
            "**Outras Curiosidades**\n",
            "\n",
            "* A boneca Matrioska é um símbolo icônico da Rússia.\n",
            "* O balalaica é um instrumento musical tradicional russo.\n",
            "* A vodka é a bebida nacional da Rússia.\n",
            "* A Rússia é o lar do Hermitage, um dos maiores e mais famosos museus do mundo.\n",
            "* A Rússia é o único país que faz fronteira com 14 outros países.\n"
          ]
        }
      ]
    },
    {
      "cell_type": "code",
      "source": [
        "chat = model.start_chat(history=[])"
      ],
      "metadata": {
        "id": "0iDg_kaIjyEQ"
      },
      "execution_count": null,
      "outputs": []
    },
    {
      "cell_type": "markdown",
      "source": [
        "O código abaixo ao ser executado, irá abrir um prompt e você conseguirá fazer uma pergunta e logo após apertar a tecla \"Enter\" o chatbox criado irá te dar uma resposta relacionado ao conteúdo requisitado pelo usuário. Após a resposta ele abrirá um novo prompt. Caso você deseja sair do prompt apenas escreva a palavra \"fim\"."
      ],
      "metadata": {
        "id": "3TqJx36Fjz96"
      }
    },
    {
      "cell_type": "code",
      "source": [
        "prompt = input(\"Esperando prompt: \")\n",
        "\n",
        "while prompt != \"fim\":\n",
        "  response = chat.send_message(prompt)\n",
        "  print(\"Resposta: \", response.text, \"\\n\")\n",
        "  prompt = input(\"Esperando prompt: \")"
      ],
      "metadata": {
        "id": "VZO5wCETj1Kd"
      },
      "execution_count": null,
      "outputs": []
    },
    {
      "cell_type": "markdown",
      "source": [
        "O código abaixo é apenas uma melhoria visual para chatbox criado."
      ],
      "metadata": {
        "id": "kl1tY98BkByZ"
      }
    },
    {
      "cell_type": "code",
      "source": [
        "#Melhorando a visualização\n",
        "#Código disponível em https://ai.google.dev/tutorials/python_quickstart#import_packages\n",
        "import textwrap\n",
        "from IPython.display import display\n",
        "from IPython.display import Markdown\n",
        "\n",
        "def to_markdown(text):\n",
        "  text = text.replace('•','  *')\n",
        "  return Markdown(textwrap.indent(text, '> ', predicate=lambda _: True))\n",
        "\n",
        "#Imprimindo o histórico\n",
        "for message in chat.history:\n",
        "  display(to_markdown(f'**{message.role}**: {message.parts[0].text}'))\n",
        "  print('-----------------------------------------------')"
      ],
      "metadata": {
        "id": "ajRkOF_CkH7S"
      },
      "execution_count": null,
      "outputs": []
    }
  ]
}